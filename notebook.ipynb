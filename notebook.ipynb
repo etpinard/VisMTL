{
 "cells": [
  {
   "cell_type": "markdown",
   "metadata": {},
   "source": [
    "# VisMTL 2015/03/23\n",
    "\n",
    "<br>\n",
    "<br>"
   ]
  },
  {
   "cell_type": "code",
   "execution_count": 1,
   "metadata": {
    "collapsed": false
   },
   "outputs": [
    {
     "data": {
      "text/plain": [
       "'1.6.6'"
      ]
     },
     "execution_count": 1,
     "metadata": {},
     "output_type": "execute_result"
    }
   ],
   "source": [
    "import plotly\n",
    "plotly.__version__"
   ]
  },
  {
   "cell_type": "code",
   "execution_count": 2,
   "metadata": {
    "collapsed": false
   },
   "outputs": [],
   "source": [
    "import plotly.plotly as py\n",
    "import plotly.tools as tls\n",
    "import plotly.graph_objs as go"
   ]
  },
  {
   "cell_type": "code",
   "execution_count": 3,
   "metadata": {
    "collapsed": false
   },
   "outputs": [],
   "source": [
    "import numpy as np\n",
    "import pandas as pd\n",
    "import urllib2"
   ]
  },
  {
   "cell_type": "code",
   "execution_count": 4,
   "metadata": {
    "collapsed": false
   },
   "outputs": [
    {
     "data": {
      "text/plain": [
       "'fr_CA.utf8'"
      ]
     },
     "execution_count": 4,
     "metadata": {},
     "output_type": "execute_result"
    }
   ],
   "source": [
    "import datetime\n",
    "import locale\n",
    "locale.setlocale(locale.LC_ALL, 'fr_CA.utf8')"
   ]
  },
  {
   "cell_type": "markdown",
   "metadata": {},
   "source": [
    "### 1. Récupérer les données "
   ]
  },
  {
   "cell_type": "code",
   "execution_count": 9,
   "metadata": {
    "collapsed": false
   },
   "outputs": [],
   "source": [
    "# URL du fichier csv \n",
    "url_csv = 'http://donnees.ville.montreal.qc.ca/storage/f/\\\n",
    "2014-01-20T20%3A48%3A50.296Z/2013.csv'\n",
    "\n",
    "fichier_csv = urllib2.urlopen(url_csv)\n",
    "df = pd.read_csv(fichier_csv)"
   ]
  },
  {
   "cell_type": "code",
   "execution_count": 10,
   "metadata": {
    "collapsed": false
   },
   "outputs": [
    {
     "data": {
      "text/html": [
       "<div style=\"max-height:1000px;max-width:1500px;overflow:auto;\">\n",
       "<table border=\"1\" class=\"dataframe\">\n",
       "  <thead>\n",
       "    <tr style=\"text-align: right;\">\n",
       "      <th></th>\n",
       "      <th>Date</th>\n",
       "      <th>Unnamed: 1</th>\n",
       "      <th>Berri1</th>\n",
       "      <th>CSC</th>\n",
       "      <th>Mais1</th>\n",
       "      <th>Mais2</th>\n",
       "      <th>Parc</th>\n",
       "      <th>PierDup</th>\n",
       "      <th>Rachel1</th>\n",
       "      <th>Totem_Laurier</th>\n",
       "    </tr>\n",
       "  </thead>\n",
       "  <tbody>\n",
       "    <tr>\n",
       "      <th>0</th>\n",
       "      <td> 01/01/2013</td>\n",
       "      <td> 00:00</td>\n",
       "      <td>  0</td>\n",
       "      <td> 0</td>\n",
       "      <td>  1</td>\n",
       "      <td> 0</td>\n",
       "      <td>  6</td>\n",
       "      <td> 0</td>\n",
       "      <td>   1</td>\n",
       "      <td> 0</td>\n",
       "    </tr>\n",
       "    <tr>\n",
       "      <th>1</th>\n",
       "      <td> 02/01/2013</td>\n",
       "      <td> 00:00</td>\n",
       "      <td> 69</td>\n",
       "      <td> 0</td>\n",
       "      <td> 13</td>\n",
       "      <td> 0</td>\n",
       "      <td> 18</td>\n",
       "      <td> 0</td>\n",
       "      <td>   2</td>\n",
       "      <td> 0</td>\n",
       "    </tr>\n",
       "    <tr>\n",
       "      <th>2</th>\n",
       "      <td> 03/01/2013</td>\n",
       "      <td> 00:00</td>\n",
       "      <td> 69</td>\n",
       "      <td> 2</td>\n",
       "      <td> 21</td>\n",
       "      <td> 6</td>\n",
       "      <td> 22</td>\n",
       "      <td> 1</td>\n",
       "      <td>   0</td>\n",
       "      <td> 0</td>\n",
       "    </tr>\n",
       "    <tr>\n",
       "      <th>3</th>\n",
       "      <td> 04/01/2013</td>\n",
       "      <td> 00:00</td>\n",
       "      <td> 80</td>\n",
       "      <td> 0</td>\n",
       "      <td> 22</td>\n",
       "      <td> 4</td>\n",
       "      <td> 16</td>\n",
       "      <td> 0</td>\n",
       "      <td> 125</td>\n",
       "      <td> 0</td>\n",
       "    </tr>\n",
       "    <tr>\n",
       "      <th>4</th>\n",
       "      <td> 05/01/2013</td>\n",
       "      <td> 00:00</td>\n",
       "      <td> 52</td>\n",
       "      <td> 4</td>\n",
       "      <td> 19</td>\n",
       "      <td> 3</td>\n",
       "      <td> 12</td>\n",
       "      <td> 0</td>\n",
       "      <td>  97</td>\n",
       "      <td> 0</td>\n",
       "    </tr>\n",
       "  </tbody>\n",
       "</table>\n",
       "<p>5 rows × 10 columns</p>\n",
       "</div>"
      ],
      "text/plain": [
       "         Date Unnamed: 1  Berri1  CSC  Mais1  Mais2  Parc  PierDup  Rachel1  \\\n",
       "0  01/01/2013      00:00       0    0      1      0     6        0        1   \n",
       "1  02/01/2013      00:00      69    0     13      0    18        0        2   \n",
       "2  03/01/2013      00:00      69    2     21      6    22        1        0   \n",
       "3  04/01/2013      00:00      80    0     22      4    16        0      125   \n",
       "4  05/01/2013      00:00      52    4     19      3    12        0       97   \n",
       "\n",
       "   Totem_Laurier  \n",
       "0              0  \n",
       "1              0  \n",
       "2              0  \n",
       "3              0  \n",
       "4              0  \n",
       "\n",
       "[5 rows x 10 columns]"
      ]
     },
     "execution_count": 10,
     "metadata": {},
     "output_type": "execute_result"
    }
   ],
   "source": [
    "df.head()"
   ]
  },
  {
   "cell_type": "code",
   "execution_count": 11,
   "metadata": {
    "collapsed": false
   },
   "outputs": [
    {
     "data": {
      "text/html": [
       "<div style=\"max-height:1000px;max-width:1500px;overflow:auto;\">\n",
       "<table border=\"1\" class=\"dataframe\">\n",
       "  <thead>\n",
       "    <tr style=\"text-align: right;\">\n",
       "      <th></th>\n",
       "      <th>Date</th>\n",
       "      <th>Unnamed: 1</th>\n",
       "      <th>Berri1</th>\n",
       "      <th>CSC</th>\n",
       "      <th>Mais1</th>\n",
       "      <th>Mais2</th>\n",
       "      <th>Parc</th>\n",
       "      <th>PierDup</th>\n",
       "      <th>Rachel1</th>\n",
       "      <th>Totem_Laurier</th>\n",
       "    </tr>\n",
       "  </thead>\n",
       "  <tbody>\n",
       "    <tr>\n",
       "      <th>256</th>\n",
       "      <td> 14/09/2013</td>\n",
       "      <td> 00:00</td>\n",
       "      <td> 2488</td>\n",
       "      <td> 1494</td>\n",
       "      <td> 1706</td>\n",
       "      <td> 2911</td>\n",
       "      <td>  979</td>\n",
       "      <td> 1075</td>\n",
       "      <td> 3277</td>\n",
       "      <td> 2456</td>\n",
       "    </tr>\n",
       "    <tr>\n",
       "      <th>257</th>\n",
       "      <td> 15/09/2013</td>\n",
       "      <td> 00:00</td>\n",
       "      <td> 2243</td>\n",
       "      <td> 1749</td>\n",
       "      <td> 1417</td>\n",
       "      <td> 2933</td>\n",
       "      <td> 1804</td>\n",
       "      <td> 1459</td>\n",
       "      <td> 3623</td>\n",
       "      <td> 2527</td>\n",
       "    </tr>\n",
       "    <tr>\n",
       "      <th>258</th>\n",
       "      <td> 16/09/2013</td>\n",
       "      <td> 00:00</td>\n",
       "      <td> 4206</td>\n",
       "      <td> 2466</td>\n",
       "      <td> 2799</td>\n",
       "      <td> 5485</td>\n",
       "      <td> 3272</td>\n",
       "      <td>  855</td>\n",
       "      <td> 4307</td>\n",
       "      <td> 3012</td>\n",
       "    </tr>\n",
       "    <tr>\n",
       "      <th>259</th>\n",
       "      <td> 17/09/2013</td>\n",
       "      <td> 00:00</td>\n",
       "      <td> 5506</td>\n",
       "      <td> 3153</td>\n",
       "      <td> 3563</td>\n",
       "      <td> 6626</td>\n",
       "      <td> 3882</td>\n",
       "      <td> 1485</td>\n",
       "      <td> 5332</td>\n",
       "      <td> 3745</td>\n",
       "    </tr>\n",
       "    <tr>\n",
       "      <th>260</th>\n",
       "      <td> 18/09/2013</td>\n",
       "      <td> 00:00</td>\n",
       "      <td> 1564</td>\n",
       "      <td> 3330</td>\n",
       "      <td> 1154</td>\n",
       "      <td> 1803</td>\n",
       "      <td> 4074</td>\n",
       "      <td> 1759</td>\n",
       "      <td> 1511</td>\n",
       "      <td> 3921</td>\n",
       "    </tr>\n",
       "  </tbody>\n",
       "</table>\n",
       "<p>5 rows × 10 columns</p>\n",
       "</div>"
      ],
      "text/plain": [
       "           Date Unnamed: 1  Berri1   CSC  Mais1  Mais2  Parc  PierDup  \\\n",
       "256  14/09/2013      00:00    2488  1494   1706   2911   979     1075   \n",
       "257  15/09/2013      00:00    2243  1749   1417   2933  1804     1459   \n",
       "258  16/09/2013      00:00    4206  2466   2799   5485  3272      855   \n",
       "259  17/09/2013      00:00    5506  3153   3563   6626  3882     1485   \n",
       "260  18/09/2013      00:00    1564  3330   1154   1803  4074     1759   \n",
       "\n",
       "     Rachel1  Totem_Laurier  \n",
       "256     3277           2456  \n",
       "257     3623           2527  \n",
       "258     4307           3012  \n",
       "259     5332           3745  \n",
       "260     1511           3921  \n",
       "\n",
       "[5 rows x 10 columns]"
      ]
     },
     "execution_count": 11,
     "metadata": {},
     "output_type": "execute_result"
    }
   ],
   "source": [
    "df.tail()"
   ]
  },
  {
   "cell_type": "code",
   "execution_count": 12,
   "metadata": {
    "collapsed": false
   },
   "outputs": [
    {
     "data": {
      "text/plain": [
       "(261, 10)"
      ]
     },
     "execution_count": 12,
     "metadata": {},
     "output_type": "execute_result"
    }
   ],
   "source": [
    "df.shape"
   ]
  },
  {
   "cell_type": "markdown",
   "metadata": {},
   "source": [
    "### 2. Calcules"
   ]
  },
  {
   "cell_type": "code",
   "execution_count": 13,
   "metadata": {
    "collapsed": false
   },
   "outputs": [],
   "source": [
    "# Noms complets des sites\n",
    "sites = ['Berri/<br>de Maisonneuve', \n",
    "         'Côte-Ste-Catherine<br>(parc Beaubien)',\n",
    "         'de Maisonneuve/<br>Berri',\n",
    "         'de Maisonneuve/<br>Peel',\n",
    "         'du Parc/<br>Duluth',\n",
    "         'Pierre-Dupuy<br>(Habitat 67)', \n",
    "         'Rachel/<br>Marquette', \n",
    "         'Laurier<br>(métro)']"
   ]
  },
  {
   "cell_type": "code",
   "execution_count": 14,
   "metadata": {
    "collapsed": false
   },
   "outputs": [],
   "source": [
    "# Liste de booléens correspondant à avril -> août\n",
    "i_AA = ['/01/' not in date and \n",
    "            '/02/' not in date and \n",
    "            '/03/' not in date and \n",
    "            '/09/' not in date\n",
    "            for date in df['Date']]\n",
    "\n",
    "df = df[i_AA]"
   ]
  },
  {
   "cell_type": "code",
   "execution_count": 15,
   "metadata": {
    "collapsed": false
   },
   "outputs": [
    {
     "data": {
      "text/html": [
       "<div style=\"max-height:1000px;max-width:1500px;overflow:auto;\">\n",
       "<table border=\"1\" class=\"dataframe\">\n",
       "  <thead>\n",
       "    <tr style=\"text-align: right;\">\n",
       "      <th></th>\n",
       "      <th>Date</th>\n",
       "      <th>Unnamed: 1</th>\n",
       "      <th>Berri1</th>\n",
       "      <th>CSC</th>\n",
       "      <th>Mais1</th>\n",
       "      <th>Mais2</th>\n",
       "      <th>Parc</th>\n",
       "      <th>PierDup</th>\n",
       "      <th>Rachel1</th>\n",
       "      <th>Totem_Laurier</th>\n",
       "    </tr>\n",
       "  </thead>\n",
       "  <tbody>\n",
       "    <tr>\n",
       "      <th>90</th>\n",
       "      <td> 01/04/2013</td>\n",
       "      <td> 00:00</td>\n",
       "      <td>  371</td>\n",
       "      <td> 245</td>\n",
       "      <td>  276</td>\n",
       "      <td>  608</td>\n",
       "      <td>  343</td>\n",
       "      <td>  66</td>\n",
       "      <td> 2315</td>\n",
       "      <td>  524</td>\n",
       "    </tr>\n",
       "    <tr>\n",
       "      <th>91</th>\n",
       "      <td> 02/04/2013</td>\n",
       "      <td> 00:00</td>\n",
       "      <td> 1055</td>\n",
       "      <td> 547</td>\n",
       "      <td>  669</td>\n",
       "      <td> 1316</td>\n",
       "      <td>  840</td>\n",
       "      <td> 105</td>\n",
       "      <td> 2835</td>\n",
       "      <td>  818</td>\n",
       "    </tr>\n",
       "    <tr>\n",
       "      <th>92</th>\n",
       "      <td> 03/04/2013</td>\n",
       "      <td> 00:00</td>\n",
       "      <td> 1030</td>\n",
       "      <td> 614</td>\n",
       "      <td>  719</td>\n",
       "      <td> 1470</td>\n",
       "      <td>  869</td>\n",
       "      <td> 119</td>\n",
       "      <td> 3085</td>\n",
       "      <td>  947</td>\n",
       "    </tr>\n",
       "    <tr>\n",
       "      <th>93</th>\n",
       "      <td> 04/04/2013</td>\n",
       "      <td> 00:00</td>\n",
       "      <td> 1466</td>\n",
       "      <td> 855</td>\n",
       "      <td> 1027</td>\n",
       "      <td> 2022</td>\n",
       "      <td> 1243</td>\n",
       "      <td> 261</td>\n",
       "      <td> 2492</td>\n",
       "      <td> 1147</td>\n",
       "    </tr>\n",
       "    <tr>\n",
       "      <th>94</th>\n",
       "      <td> 05/04/2013</td>\n",
       "      <td> 00:00</td>\n",
       "      <td> 1098</td>\n",
       "      <td> 543</td>\n",
       "      <td>  723</td>\n",
       "      <td> 1384</td>\n",
       "      <td>  761</td>\n",
       "      <td> 145</td>\n",
       "      <td> 2553</td>\n",
       "      <td>  995</td>\n",
       "    </tr>\n",
       "  </tbody>\n",
       "</table>\n",
       "<p>5 rows × 10 columns</p>\n",
       "</div>"
      ],
      "text/plain": [
       "          Date Unnamed: 1  Berri1  CSC  Mais1  Mais2  Parc  PierDup  Rachel1  \\\n",
       "90  01/04/2013      00:00     371  245    276    608   343       66     2315   \n",
       "91  02/04/2013      00:00    1055  547    669   1316   840      105     2835   \n",
       "92  03/04/2013      00:00    1030  614    719   1470   869      119     3085   \n",
       "93  04/04/2013      00:00    1466  855   1027   2022  1243      261     2492   \n",
       "94  05/04/2013      00:00    1098  543    723   1384   761      145     2553   \n",
       "\n",
       "    Totem_Laurier  \n",
       "90            524  \n",
       "91            818  \n",
       "92            947  \n",
       "93           1147  \n",
       "94            995  \n",
       "\n",
       "[5 rows x 10 columns]"
      ]
     },
     "execution_count": 15,
     "metadata": {},
     "output_type": "execute_result"
    }
   ],
   "source": [
    "df.head()"
   ]
  },
  {
   "cell_type": "code",
   "execution_count": 16,
   "metadata": {
    "collapsed": false
   },
   "outputs": [
    {
     "data": {
      "text/html": [
       "<div style=\"max-height:1000px;max-width:1500px;overflow:auto;\">\n",
       "<table border=\"1\" class=\"dataframe\">\n",
       "  <thead>\n",
       "    <tr style=\"text-align: right;\">\n",
       "      <th></th>\n",
       "      <th>Date</th>\n",
       "      <th>Unnamed: 1</th>\n",
       "      <th>Berri1</th>\n",
       "      <th>CSC</th>\n",
       "      <th>Mais1</th>\n",
       "      <th>Mais2</th>\n",
       "      <th>Parc</th>\n",
       "      <th>PierDup</th>\n",
       "      <th>Rachel1</th>\n",
       "      <th>Totem_Laurier</th>\n",
       "    </tr>\n",
       "  </thead>\n",
       "  <tbody>\n",
       "    <tr>\n",
       "      <th>238</th>\n",
       "      <td> 27/08/2013</td>\n",
       "      <td> 00:00</td>\n",
       "      <td> 5566</td>\n",
       "      <td> 2805</td>\n",
       "      <td> 3662</td>\n",
       "      <td> 6355</td>\n",
       "      <td> 3373</td>\n",
       "      <td> 2153</td>\n",
       "      <td> 5888</td>\n",
       "      <td> 3738</td>\n",
       "    </tr>\n",
       "    <tr>\n",
       "      <th>239</th>\n",
       "      <td> 28/08/2013</td>\n",
       "      <td> 00:00</td>\n",
       "      <td> 5560</td>\n",
       "      <td> 2759</td>\n",
       "      <td> 3717</td>\n",
       "      <td> 6323</td>\n",
       "      <td> 3355</td>\n",
       "      <td> 1881</td>\n",
       "      <td> 5673</td>\n",
       "      <td> 3886</td>\n",
       "    </tr>\n",
       "    <tr>\n",
       "      <th>240</th>\n",
       "      <td> 29/08/2013</td>\n",
       "      <td> 00:00</td>\n",
       "      <td> 5806</td>\n",
       "      <td> 2766</td>\n",
       "      <td> 3902</td>\n",
       "      <td> 6713</td>\n",
       "      <td> 3466</td>\n",
       "      <td> 1941</td>\n",
       "      <td> 6044</td>\n",
       "      <td> 3995</td>\n",
       "    </tr>\n",
       "    <tr>\n",
       "      <th>241</th>\n",
       "      <td> 30/08/2013</td>\n",
       "      <td> 00:00</td>\n",
       "      <td> 4381</td>\n",
       "      <td> 2209</td>\n",
       "      <td> 3019</td>\n",
       "      <td> 5409</td>\n",
       "      <td> 2724</td>\n",
       "      <td> 1632</td>\n",
       "      <td> 5109</td>\n",
       "      <td> 3106</td>\n",
       "    </tr>\n",
       "    <tr>\n",
       "      <th>242</th>\n",
       "      <td> 31/08/2013</td>\n",
       "      <td> 00:00</td>\n",
       "      <td> 2682</td>\n",
       "      <td> 1018</td>\n",
       "      <td> 1701</td>\n",
       "      <td> 3178</td>\n",
       "      <td> 1385</td>\n",
       "      <td> 1494</td>\n",
       "      <td> 3593</td>\n",
       "      <td> 2303</td>\n",
       "    </tr>\n",
       "  </tbody>\n",
       "</table>\n",
       "<p>5 rows × 10 columns</p>\n",
       "</div>"
      ],
      "text/plain": [
       "           Date Unnamed: 1  Berri1   CSC  Mais1  Mais2  Parc  PierDup  \\\n",
       "238  27/08/2013      00:00    5566  2805   3662   6355  3373     2153   \n",
       "239  28/08/2013      00:00    5560  2759   3717   6323  3355     1881   \n",
       "240  29/08/2013      00:00    5806  2766   3902   6713  3466     1941   \n",
       "241  30/08/2013      00:00    4381  2209   3019   5409  2724     1632   \n",
       "242  31/08/2013      00:00    2682  1018   1701   3178  1385     1494   \n",
       "\n",
       "     Rachel1  Totem_Laurier  \n",
       "238     5888           3738  \n",
       "239     5673           3886  \n",
       "240     6044           3995  \n",
       "241     5109           3106  \n",
       "242     3593           2303  \n",
       "\n",
       "[5 rows x 10 columns]"
      ]
     },
     "execution_count": 16,
     "metadata": {},
     "output_type": "execute_result"
    }
   ],
   "source": [
    "df.tail()"
   ]
  },
  {
   "cell_type": "code",
   "execution_count": 17,
   "metadata": {
    "collapsed": false
   },
   "outputs": [
    {
     "data": {
      "text/plain": [
       "[('Berri/<br>de Maisonneuve', '617472'),\n",
       " ('C\\xc3\\xb4te-Ste-Catherine<br>(parc Beaubien)', '272218'),\n",
       " ('de Maisonneuve/<br>Berri', '393995'),\n",
       " ('de Maisonneuve/<br>Peel', '716427'),\n",
       " ('du Parc/<br>Duluth', '367109'),\n",
       " ('Pierre-Dupuy<br>(Habitat 67)', '273008'),\n",
       " ('Rachel/<br>Marquette', '693354'),\n",
       " ('Laurier<br>(m\\xc3\\xa9tro)', '414548')]"
      ]
     },
     "execution_count": 17,
     "metadata": {},
     "output_type": "execute_result"
    }
   ],
   "source": [
    "z_site = np.array(df.sum(axis=0).tolist()[2:])\n",
    "\n",
    "zip(sites, z_site)"
   ]
  },
  {
   "cell_type": "code",
   "execution_count": 21,
   "metadata": {
    "collapsed": false
   },
   "outputs": [],
   "source": [
    "dates = df['Date'].tolist()\n",
    "     \n",
    "Z_jourXsite = df.ix[:,2:].values.transpose()\n",
    "    \n",
    "dates_en_mots = [\n",
    "    datetime.datetime.strptime(i,'%d/%m/%Y').strftime('%a, %b %d') \n",
    "    for i in dates]\n",
    "\n",
    "ind_en_ordre = np.argsort(z_site)[::-1]\n",
    "sites_en_ordre = [sites[i] for i in ind_en_ordre]\n",
    "\n",
    "Z_jourXsite_en_ordre = Z_jourXsite[ind_en_ordre, :]"
   ]
  },
  {
   "cell_type": "code",
   "execution_count": 22,
   "metadata": {
    "collapsed": false
   },
   "outputs": [
    {
     "data": {
      "text/plain": [
       "(8, 153)"
      ]
     },
     "execution_count": 22,
     "metadata": {},
     "output_type": "execute_result"
    }
   ],
   "source": [
    "Z_jourXsite_en_ordre.shape"
   ]
  },
  {
   "cell_type": "markdown",
   "metadata": {},
   "source": [
    "### 3. Créer le graphique"
   ]
  },
  {
   "cell_type": "code",
   "execution_count": 34,
   "metadata": {
    "collapsed": true
   },
   "outputs": [],
   "source": [
    "colorbar = go.ColorBar(\n",
    "    title='fdsfdsdfs',\n",
    "    titleside='right',\n",
    "    thickness=30,\n",
    "    len=0.8,\n",
    "    ticks='outside'\n",
    ")\n",
    "\n",
    "trace = go.Contour(\n",
    "    x=dates_en_mots,\n",
    "    y=sites_en_ordre,\n",
    "    z=Z_jourXsite_en_ordre,\n",
    "    colorscale='Greens',\n",
    "    reversescale=True,\n",
    "    line=go.Line(\n",
    "        smoothing=1.5,\n",
    "        width=1\n",
    "    ),\n",
    "    colorbar=colorbar\n",
    ")"
   ]
  },
  {
   "cell_type": "code",
   "execution_count": 53,
   "metadata": {
    "collapsed": false
   },
   "outputs": [],
   "source": [
    "width = 1500\n",
    "height = 800\n",
    "\n",
    "title = \"Progression journalière de l'achalandage cycliste à Montréal en 2013\"\n",
    "\n",
    "layout = go.Layout(\n",
    "    autosize=False,\n",
    "    width=width,\n",
    "    height=height,\n",
    "    title=title,\n",
    "    titefont=go.Font(\n",
    "        size=22\n",
    "    ),\n",
    "    font=go.Font(\n",
    "        family='Droid, sans-serif', \n",
    "        color='#635F5D'\n",
    "    ),\n",
    "    xaxis=go.XAxis(\n",
    "        autotick=False,\n",
    "        dtick=7\n",
    "    ),\n",
    "    yaxis=go.YAxis(\n",
    "        domain=[0.4, 1],\n",
    "        autorange='reversed'\n",
    "\n",
    "    ),\n",
    "    yaxis2=go.YAxis(\n",
    "        domain=[0, 0.3],\n",
    "    ),\n",
    "    margin=go.Margin(\n",
    "        l=150\n",
    "    )\n",
    ")"
   ]
  },
  {
   "cell_type": "code",
   "execution_count": 54,
   "metadata": {
    "collapsed": false
   },
   "outputs": [
    {
     "data": {
      "text/plain": [
       "u'https://plot.ly/~etpinard/2215'"
      ]
     },
     "execution_count": 54,
     "metadata": {},
     "output_type": "execute_result"
    }
   ],
   "source": [
    "fig = go.Figure(data=[trace], layout=layout)\n",
    "\n",
    "py.plot(\n",
    "    fig,\n",
    "    filename='vismtl-2015-03-23',\n",
    "    width=width,\n",
    "    height=height,\n",
    "    auto_open=False\n",
    ")"
   ]
  },
  {
   "cell_type": "markdown",
   "metadata": {},
   "source": [
    "<br>\n",
    "<br>\n",
    "\n",
    "<div style=\"float:right; \\\">\n",
    "    <img src=\"http://i.imgur.com/4vwuxdJ.png\" \n",
    " align=right style=\"float:right; margin-left: 5px; margin-top: -10px\" />\n",
    "</div>\n",
    "\n",
    "<h4>Got Questions or Feedback? </h4>\n",
    "\n",
    "About <a href=\"https://plot.ly\" target=\"_blank\">Plotly</a>\n",
    "\n",
    "* email: feedback@plot.ly \n",
    "* tweet: \n",
    "<a href=\"https://twitter.com/plotlygraphs\" target=\"_blank\">@plotlygraphs</a>\n",
    "\n",
    "About the <a href=\"https://github.com/plotly/python-user-guide\" target=\"_blank\">User Guide</a>\n",
    " \n",
    "* email: etienne@plot.ly\n",
    "* tweet: <a href=\"https://twitter.com/etpinard\" target=\"_blank\">@etpinard</a>\n",
    "\n",
    "<br>"
   ]
  },
  {
   "cell_type": "code",
   "execution_count": 18,
   "metadata": {
    "collapsed": false
   },
   "outputs": [
    {
     "data": {
      "text/html": [
       "<style>\n",
       "    div.cell{\n",
       "        width: 850px;\n",
       "        margin-left: 10% !important;\n",
       "        margin-right: auto;\n",
       "    }\n",
       "    h1 {\n",
       "        font-family: \"Open sans\",verdana,arial,sans-serif;\n",
       "    }\n",
       "    .text_cell_render h1 {\n",
       "        font-weight: 200;\n",
       "        font-size: 40pt;\n",
       "        line-height: 100%;\n",
       "        color:#447adb;\n",
       "        margin-bottom: 0em;\n",
       "        margin-top: 0em;\n",
       "        display: block;\n",
       "        white-space: nowrap;\n",
       "    } \n",
       "    h2 {\n",
       "        font-family: \"Open sans\",verdana,arial,sans-serif;\n",
       "        text-indent:1em;\n",
       "    }\n",
       "    .text_cell_render h2 {\n",
       "        font-weight: 200;\n",
       "        font-size: 20pt;\n",
       "        font-style: italic;\n",
       "        line-height: 100%;\n",
       "        color:#447adb;\n",
       "        margin-bottom: 1.5em;\n",
       "        margin-top: 0.5em;\n",
       "        display: block;\n",
       "        white-space: nowrap;\n",
       "    } \n",
       "    h3 {\n",
       "        font-family: \"Open sans\",verdana,arial,sans-serif;\n",
       "    }\n",
       "    .text_cell_render h3 {\n",
       "        font-weight: 300;\n",
       "        font-size: 18pt;\n",
       "        line-height: 100%;\n",
       "        color:#447adb;\n",
       "        margin-bottom: 0.5em;\n",
       "        margin-top: 2em;\n",
       "        display: block;\n",
       "        white-space: nowrap;\n",
       "    }\n",
       "    h4 {\n",
       "        font-family: \"Open sans\",verdana,arial,sans-serif;\n",
       "    }\n",
       "    .text_cell_render h4 {\n",
       "        font-weight: 300;\n",
       "        font-size: 16pt;\n",
       "        color:#447adb;\n",
       "        margin-bottom: 0.5em;\n",
       "        margin-top: 0.5em;\n",
       "        display: block;\n",
       "        white-space: nowrap;\n",
       "    }\n",
       "    h5 {\n",
       "        font-family: \"Open sans\",verdana,arial,sans-serif;\n",
       "    }\n",
       "    .text_cell_render h5 {\n",
       "        font-weight: 300;\n",
       "        font-style: normal;\n",
       "        color: #1d3b84;\n",
       "        font-size: 16pt;\n",
       "        margin-bottom: 0em;\n",
       "        margin-top: 1.5em;\n",
       "        display: block;\n",
       "        white-space: nowrap;\n",
       "    }\n",
       "    div.text_cell_render{\n",
       "        font-family: \"Open sans\",verdana,arial,sans-serif;\n",
       "        line-height: 135%;\n",
       "        font-size: 125%;\n",
       "        width:750px;\n",
       "        margin-left:auto;\n",
       "        margin-right:auto;\n",
       "        text-align:justify;\n",
       "        text-justify:inter-word;\n",
       "    }\n",
       "    div.output_subarea.output_text.output_pyout {\n",
       "        overflow-x: auto;\n",
       "        overflow-y: scroll;\n",
       "        max-height: 300px;\n",
       "    }\n",
       "    div.output_subarea.output_stream.output_stdout.output_text {\n",
       "        overflow-x: auto;\n",
       "        overflow-y: scroll;\n",
       "        max-height: 300px;\n",
       "    }\n",
       "    div.output_subarea.output_html.rendered_html {\n",
       "        overflow-x: scroll;\n",
       "        max-width: 100%;\n",
       "      /*  overflow-y: scroll; */\n",
       "      /*  max-height: 300px;   */\n",
       "    }\n",
       "    code{\n",
       "      font-size: 78%;\n",
       "    }\n",
       "    .rendered_html code{\n",
       "        background-color: transparent;\n",
       "        white-space: inherit;   \n",
       "    }\n",
       "    ul{\n",
       "        /* color:#447adb; */  \n",
       "        margin: 2em;\n",
       "    }\n",
       "    ul li{\n",
       "        padding-left: 0.5em; \n",
       "        margin-bottom: 0.5em; \n",
       "        margin-top: 0.5em; \n",
       "    }\n",
       "    ul li li{\n",
       "        padding-left: 0.2em; \n",
       "        margin-bottom: 0.2em; \n",
       "        margin-top: 0.2em; \n",
       "    }\n",
       "    ol{\n",
       "        /* color:#447adb; */  \n",
       "        margin: 2em;\n",
       "    }\n",
       "    ol li{\n",
       "        padding-left: 0.5em; \n",
       "        margin-bottom: 0.5em; \n",
       "        margin-top: 0.5em; \n",
       "    }\n",
       "    /*.prompt{\n",
       "        display: None;\n",
       "    } */\n",
       "    ul li{\n",
       "        padding-left: 0.5em; \n",
       "        margin-bottom: 0.5em; \n",
       "        margin-top: 0.2em; \n",
       "    }\n",
       "    a:link{\n",
       "       font-weight: bold;\n",
       "       color:#447adb;\n",
       "    }\n",
       "    a:visited{\n",
       "       font-weight: bold;\n",
       "       color: #1d3b84;\n",
       "    }\n",
       "    a:hover{\n",
       "       font-weight: bold;\n",
       "       color: #1d3b84;\n",
       "    }\n",
       "    a:focus{\n",
       "       font-weight: bold;\n",
       "       color:#447adb;\n",
       "    }\n",
       "    a:active{\n",
       "       font-weight: bold;\n",
       "       color:#447adb;\n",
       "    }\n",
       "    .rendered_html :link {\n",
       "       text-decoration: none; \n",
       "    }\n",
       "    .rendered_html :hover {\n",
       "       text-decoration: none; \n",
       "    }\n",
       "    .rendered_html :visited {\n",
       "      text-decoration: none;\n",
       "    }\n",
       "    .rendered_html :focus {\n",
       "      text-decoration: none;\n",
       "    }\n",
       "    .rendered_html :active {\n",
       "      text-decoration: none;\n",
       "    }\n",
       "    .warning{\n",
       "        color: rgb( 240, 20, 20 )\n",
       "    } \n",
       "    hr {\n",
       "      color: #f3f3f3;\n",
       "      background-color: #f3f3f3;\n",
       "      height: 1px;\n",
       "    }\n",
       "    blockquote{\n",
       "      display:block;\n",
       "      background: #f3f3f3;\n",
       "      font-family: \"Open sans\",verdana,arial,sans-serif;\n",
       "      width:610px;\n",
       "      padding: 15px 15px 15px 15px;\n",
       "      text-align:justify;\n",
       "      text-justify:inter-word;\n",
       "      }\n",
       "      blockquote p {\n",
       "        margin-bottom: 0;\n",
       "        line-height: 125%;\n",
       "        font-size: 100%;\n",
       "        text-align: center;\n",
       "      }\n",
       "   /* element.style {\n",
       "    } */  \n",
       "</style>\n",
       "<script>\n",
       "    MathJax.Hub.Config({\n",
       "                        TeX: {\n",
       "                           extensions: [\"AMSmath.js\"]\n",
       "                           },\n",
       "                tex2jax: {\n",
       "                    inlineMath: [ [\"$\",\"$\"], [\"\\\\(\",\"\\\\)\"] ],\n",
       "                    displayMath: [ [\"$$\",\"$$\"], [\"\\\\[\",\"\\\\]\"] ]\n",
       "                },\n",
       "                displayAlign: \"center\", // Change this to \"center\" to center equations.\n",
       "                \"HTML-CSS\": {\n",
       "                    styles: {\".MathJax_Display\": {\"margin\": 4}}\n",
       "                }\n",
       "        });\n",
       "</script>\n"
      ],
      "text/plain": [
       "<IPython.core.display.HTML object>"
      ]
     },
     "metadata": {},
     "output_type": "display_data"
    }
   ],
   "source": [
    "from IPython.display import display, HTML\n",
    "url = 'https://raw.githubusercontent.com/plotly/python-user-guide/master/custom.css'\n",
    "display(HTML(urllib2.urlopen(url).read()))"
   ]
  }
 ],
 "metadata": {
  "kernelspec": {
   "display_name": "Python 2",
   "language": "python",
   "name": "python2"
  },
  "language_info": {
   "codemirror_mode": {
    "name": "ipython",
    "version": 2
   },
   "file_extension": ".py",
   "mimetype": "text/x-python",
   "name": "python",
   "nbconvert_exporter": "python",
   "pygments_lexer": "ipython2",
   "version": "2.7.6"
  }
 },
 "nbformat": 4,
 "nbformat_minor": 0
}
